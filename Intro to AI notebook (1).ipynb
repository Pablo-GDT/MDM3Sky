{
 "cells": [
  {
   "cell_type": "code",
   "execution_count": 1,
   "metadata": {},
   "outputs": [
    {
     "name": "stderr",
     "output_type": "stream",
     "text": [
      "C:\\Users\\Pablo GDT\\AppData\\Local\\Programs\\Python\\Python38\\lib\\site-packages\\numpy\\_distributor_init.py:30: UserWarning: loaded more than 1 DLL from .libs:\n",
      "C:\\Users\\Pablo GDT\\AppData\\Local\\Programs\\Python\\Python38\\lib\\site-packages\\numpy\\.libs\\libopenblas.PYQHXLVVQ7VESDPUVUADXEVJOBGHJPAY.gfortran-win_amd64.dll\n",
      "C:\\Users\\Pablo GDT\\AppData\\Local\\Programs\\Python\\Python38\\lib\\site-packages\\numpy\\.libs\\libopenblas.QVLO2T66WEPI7JZ63PS3HMOHFEY472BC.gfortran-win_amd64.dll\n",
      "  warnings.warn(\"loaded more than 1 DLL from .libs:\"\n"
     ]
    }
   ],
   "source": [
    "import numpy as np\n",
    "import pandas as pd\n",
    "import matplotlib.pyplot as plt\n",
    "import sklearn"
   ]
  },
  {
   "cell_type": "code",
   "execution_count": 2,
   "metadata": {},
   "outputs": [
    {
     "name": "stdout",
     "output_type": "stream",
     "text": [
      "[[ 3.25]\n",
      " [ 8.8 ]\n",
      " [ 2.2 ]\n",
      " [ 2.71]\n",
      " [11.  ]\n",
      " [ 6.22]\n",
      " [10.28]\n",
      " [ 7.22]\n",
      " [ 5.58]\n",
      " [ 1.  ]]\n",
      "[[ 61.23]\n",
      " [178.96]\n",
      " [ 45.64]\n",
      " [ 47.22]\n",
      " [200.  ]\n",
      " [113.85]\n",
      " [199.85]\n",
      " [131.77]\n",
      " [110.72]\n",
      " [ 20.  ]]\n",
      "[[ 1.    3.25]\n",
      " [ 1.    8.8 ]\n",
      " [ 1.    2.2 ]\n",
      " [ 1.    2.71]\n",
      " [ 1.   11.  ]\n",
      " [ 1.    6.22]\n",
      " [ 1.   10.28]\n",
      " [ 1.    7.22]\n",
      " [ 1.    5.58]\n",
      " [ 1.    1.  ]]\n"
     ]
    }
   ],
   "source": [
    "data = [3.25, 61.23,8.8,178.96\n",
    ",2.2,45.64,\n",
    "2.71,47.22,\n",
    "11,200,\n",
    "6.22,113.85,\n",
    "10.28,199.85,\n",
    "7.22,131.77,\n",
    "5.58,110.72,\n",
    "1,20]\n",
    "X=data[::2]\n",
    "X=np.array([X]).T\n",
    "y=data[1::2]\n",
    "y=np.array([y]).T\n",
    "print(X)\n",
    "print(y)\n",
    "\n",
    "\n",
    "X= np.hstack((np.ones(shape=(len(X), 1)), X))\n",
    "print(X)"
   ]
  },
  {
   "cell_type": "code",
   "execution_count": 3,
   "metadata": {},
   "outputs": [
    {
     "name": "stdout",
     "output_type": "stream",
     "text": [
      "[[ 0.54262742]\n",
      " [18.94633927]]\n"
     ]
    }
   ],
   "source": [
    "ls = np.linalg.inv(X.T.dot(X)).dot(X.T).dot(y)\n",
    "print(ls)"
   ]
  },
  {
   "cell_type": "code",
   "execution_count": 19,
   "metadata": {},
   "outputs": [
    {
     "name": "stdout",
     "output_type": "stream",
     "text": [
      "[-0.88823004]\n",
      "[11.68958701]\n",
      "[3.41542619]\n",
      "[-4.66720684]\n",
      "[-8.95235938]\n",
      "[-4.53885767]\n",
      "[4.5390049]\n",
      "[-5.56519694]\n",
      "[4.45679946]\n",
      "[0.51103331]\n",
      "49.22370174347782\n",
      "4.9223701743477815\n"
     ]
    }
   ],
   "source": [
    "total=0\n",
    "y_pred = X.dot(ls)\n",
    "for i in range(len(X)):\n",
    "    print(y[i]-y_pred[i])\n",
    "    total += abs(float(y[i]-y_pred[i]))\n",
    "MAE=total/len(X)\n",
    "print(total)\n",
    "print(MAE)"
   ]
  },
  {
   "cell_type": "markdown",
   "metadata": {},
   "source": [
    "\n"
   ]
  },
  {
   "cell_type": "code",
   "execution_count": 9,
   "metadata": {},
   "outputs": [
    {
     "name": "stdout",
     "output_type": "stream",
     "text": [
      "   x1  x2  class\n",
      "1  -3  -4     -1\n",
      "2  -2  -3     -1\n",
      "0   4   4      1\n",
      "3   2  -4      1\n",
      "4   1   3      1\n",
      "5  -4   2      1\n"
     ]
    },
    {
     "data": {
      "text/plain": [
       "<matplotlib.legend.Legend at 0x2157529e5e0>"
      ]
     },
     "execution_count": 9,
     "metadata": {},
     "output_type": "execute_result"
    },
    {
     "data": {
      "image/png": "[encoded data removed]",
      "text/plain": [
       "<Figure size 432x288 with 1 Axes>"
      ]
     },
     "metadata": {
      "needs_background": "light"
     },
     "output_type": "display_data"
    }
   ],
   "source": [
    "d={'x1': [4, -3,-2,2,1,-4], 'x2': [4,-4,-3,-4,3,2], 'class': [1,-1,-1,1,1,1]}\n",
    "\n",
    "df = pd.DataFrame(d)\n",
    "y=df.iloc[:,2].values\n",
    "X=np.array(df.iloc[:,[0,1]])\n",
    "sortedDf =df\n",
    "sortedDf.sort_values(by=\"class\",inplace=True,ascending=True)\n",
    "\n",
    "\n",
    "%matplotlib inline\n",
    "# print(X)\n",
    "# print(df)\n",
    "print(sortedDf)\n",
    "plt.scatter(sortedDf.iloc[0:2, 0],sortedDf.iloc[0:2, 1], c='r', marker='o',label='Falses' )\n",
    "plt.scatter(sortedDf.iloc[2:, 0],sortedDf.iloc[2:, 1], c='b', marker='x', label='Trues')\n",
    "plt.xlabel('x1')\n",
    "plt.ylabel('x2')\n",
    "plt.legend()"
   ]
  },
  {
   "cell_type": "code",
   "execution_count": 10,
   "metadata": {
    "scrolled": true
   },
   "outputs": [
    {
     "name": "stdout",
     "output_type": "stream",
     "text": [
      "[[ 4  4]\n",
      " [-3 -4]\n",
      " [-2 -3]\n",
      " [ 2 -4]\n",
      " [ 1  3]\n",
      " [-4  2]]\n",
      "Iteration 0 - Num.errors: 3 - Weights: [2.000000 2.000000]\n",
      "Iteration 1 - Num.errors: 3 - Weights: [1.000000 3.000000]\n",
      "Iteration 2 - Num.errors: 3 - Weights: [0.000000 4.000000]\n",
      "Iteration 3 - Num.errors: 2 - Weights: [-2.000000 2.000000]\n",
      "Iteration 4 - Num.errors: 3 - Weights: [0.000000 4.000000]\n",
      "Iteration 5 - Num.errors: 2 - Weights: [-2.000000 2.000000]\n",
      "Iteration 6 - Num.errors: 3 - Weights: [0.000000 4.000000]\n",
      "Iteration 7 - Num.errors: 2 - Weights: [-2.000000 2.000000]\n",
      "Iteration 8 - Num.errors: 3 - Weights: [0.000000 4.000000]\n",
      "Iteration 9 - Num.errors: 2 - Weights: [-2.000000 2.000000]\n",
      "Iteration 10 - Num.errors: 3 - Weights: [0.000000 4.000000]\n",
      "Iteration 11 - Num.errors: 2 - Weights: [-2.000000 2.000000]\n",
      "Iteration 12 - Num.errors: 3 - Weights: [0.000000 4.000000]\n",
      "Iteration 13 - Num.errors: 2 - Weights: [-2.000000 2.000000]\n",
      "Iteration 14 - Num.errors: 3 - Weights: [0.000000 4.000000]\n",
      "Iteration 15 - Num.errors: 2 - Weights: [-2.000000 2.000000]\n",
      "Iteration 16 - Num.errors: 3 - Weights: [0.000000 4.000000]\n",
      "Iteration 17 - Num.errors: 2 - Weights: [-2.000000 2.000000]\n",
      "Iteration 18 - Num.errors: 3 - Weights: [0.000000 4.000000]\n",
      "Iteration 19 - Num.errors: 2 - Weights: [-2.000000 2.000000]\n",
      "Iteration 20 - Num.errors: 3 - Weights: [0.000000 4.000000]\n",
      "Iteration 21 - Num.errors: 2 - Weights: [-2.000000 2.000000]\n",
      "Iteration 22 - Num.errors: 3 - Weights: [0.000000 4.000000]\n",
      "Iteration 23 - Num.errors: 2 - Weights: [-2.000000 2.000000]\n",
      "Iteration 24 - Num.errors: 3 - Weights: [0.000000 4.000000]\n",
      "Iteration 25 - Num.errors: 2 - Weights: [-2.000000 2.000000]\n",
      "Iteration 26 - Num.errors: 3 - Weights: [0.000000 4.000000]\n",
      "Iteration 27 - Num.errors: 2 - Weights: [-2.000000 2.000000]\n",
      "Iteration 28 - Num.errors: 3 - Weights: [0.000000 4.000000]\n",
      "Iteration 29 - Num.errors: 2 - Weights: [-2.000000 2.000000]\n",
      "Iteration 30 - Num.errors: 3 - Weights: [0.000000 4.000000]\n",
      "Iteration 31 - Num.errors: 2 - Weights: [-2.000000 2.000000]\n",
      "Iteration 32 - Num.errors: 3 - Weights: [0.000000 4.000000]\n",
      "Iteration 33 - Num.errors: 2 - Weights: [-2.000000 2.000000]\n",
      "Iteration 34 - Num.errors: 3 - Weights: [0.000000 4.000000]\n",
      "Iteration 35 - Num.errors: 2 - Weights: [-2.000000 2.000000]\n",
      "Iteration 36 - Num.errors: 3 - Weights: [0.000000 4.000000]\n",
      "Iteration 37 - Num.errors: 2 - Weights: [-2.000000 2.000000]\n",
      "Iteration 38 - Num.errors: 3 - Weights: [0.000000 4.000000]\n",
      "Iteration 39 - Num.errors: 2 - Weights: [-2.000000 2.000000]\n"
     ]
    }
   ],
   "source": [
    "w = [0, 0]\n",
    "print(X)\n",
    "#print(w.shape)\n",
    "for t in range(40):\n",
    "    num_errors = 0\n",
    "    for xi, label in zip(X, y):\n",
    "        dp = np.dot(xi, w)\n",
    "        \n",
    "        if dp > 0.0:\n",
    "            prediction = 1\n",
    "        else:\n",
    "            prediction = -1\n",
    "        \n",
    "        if prediction == 1 and label != 1:\n",
    "            w -= xi\n",
    "            num_errors += 1\n",
    "        elif prediction == -1 and label != -1:\n",
    "            w += xi\n",
    "            num_errors += 1\n",
    "            \n",
    "    print(\"Iteration %i - Num.errors: %i - Weights: [%f %f]\" % (t, num_errors, w[0], w[1]))"
   ]
  },
  {
   "cell_type": "code",
   "execution_count": 8,
   "metadata": {},
   "outputs": [
    {
     "name": "stdout",
     "output_type": "stream",
     "text": [
      "    x   y\n",
      "0   1   1\n",
      "1   2   2\n",
      "2   3   1\n",
      "3   5   6\n",
      "4   6   8\n",
      "5   8   5\n",
      "6   8   8\n",
      "7  12  10\n"
     ]
    },
    {
     "data": {
      "text/plain": [
       "<matplotlib.collections.PathCollection at 0x215783b9520>"
      ]
     },
     "execution_count": 8,
     "metadata": {},
     "output_type": "execute_result"
    },
    {
     "data": {
      "image/png": "[encoded data removed]",
      "text/plain": [
       "<Figure size 432x288 with 1 Axes>"
      ]
     },
     "metadata": {
      "needs_background": "light"
     },
     "output_type": "display_data"
    }
   ],
   "source": [
    "d2={'x':[1,2,3,5,6,8,8,12], 'y':[1,2,1,6,8,5,8,10]}\n",
    "df=pd.DataFrame(d2)\n",
    "print(df)\n",
    "X = df.iloc[:, :2].values\n",
    "x1=df.iloc[:,0]\n",
    "x2=df.iloc[:,1]\n",
    "plt.scatter(x1,x2)\n"
   ]
  },
  {
   "cell_type": "code",
   "execution_count": 146,
   "metadata": {},
   "outputs": [
    {
     "name": "stdout",
     "output_type": "stream",
     "text": [
      "[[ 1  1]\n",
      " [12 10]]\n"
     ]
    },
    {
     "data": {
      "text/plain": [
       "<matplotlib.collections.PathCollection at 0x205111fa430>"
      ]
     },
     "execution_count": 146,
     "metadata": {},
     "output_type": "execute_result"
    },
    {
     "data": {
      "image/png": "[encoded data removed]",
      "text/plain": [
       "<Figure size 432x288 with 1 Axes>"
      ]
     },
     "metadata": {
      "needs_background": "light"
     },
     "output_type": "display_data"
    }
   ],
   "source": [
    "k = 2\n",
    "centroids = [[1,1],[12,10]]\n",
    "\n",
    "centroids = np.array(centroids)\n",
    "print(centroids)\n",
    "plt.scatter(centroids[:,0], centroids[:,1], marker='*', s=200, c='green')\n",
    "plt.scatter(x1,x2)"
   ]
  },
  {
   "cell_type": "code",
   "execution_count": 147,
   "metadata": {},
   "outputs": [
    {
     "name": "stdout",
     "output_type": "stream",
     "text": [
      "[[2 2]\n",
      " [8 7]]\n",
      "Converged? False\n",
      "[[2 1]\n",
      " [7 7]]\n",
      "Converged? False\n",
      "[[2 1]\n",
      " [7 7]]\n",
      "Converged? True\n"
     ]
    }
   ],
   "source": [
    "clusters = np.zeros(len(X))\n",
    "prev_clusters = None\n",
    "c=0\n",
    "while True:\n",
    "    \n",
    "    for i in range(len(X)):\n",
    "        lowest_dist = np.inf\n",
    "        for j in range(k):\n",
    "            dist = np.linalg.norm(X[i] - centroids[j], ord=2)\n",
    "            if dist < lowest_dist:\n",
    "                lowest_dist = dist\n",
    "                best_cluster = j\n",
    "            \n",
    "        clusters[i] = best_cluster\n",
    "    \n",
    "    k_points = []\n",
    "    for i in range(k):\n",
    "        k_points.append([])\n",
    "    \n",
    "    for i in range(len(X)):\n",
    "        k_points[int(clusters[i])].append(X[i])\n",
    "    \n",
    "    for i in range(k):\n",
    "        centroids[i] = np.mean(k_points[i], axis=0)\n",
    "        \n",
    "    print(centroids)\n",
    "    converged = (clusters==prev_clusters).all()\n",
    "    print(\"Converged? \"+str(converged))\n",
    "    if converged:\n",
    "        break\n",
    "    \n",
    "    prev_clusters = np.copy(clusters)\n"
   ]
  },
  {
   "cell_type": "code",
   "execution_count": null,
   "metadata": {},
   "outputs": [],
   "source": []
  }
 ],
 "metadata": {
  "kernelspec": {
   "display_name": "Python 3",
   "language": "python",
   "name": "python3"
  },
  "language_info": {
   "codemirror_mode": {
    "name": "ipython",
    "version": 3
   },
   "file_extension": ".py",
   "mimetype": "text/x-python",
   "name": "python",
   "nbconvert_exporter": "python",
   "pygments_lexer": "ipython3",
   "version": "3.8.2"
  }
 },
 "nbformat": 4,
 "nbformat_minor": 2
}
