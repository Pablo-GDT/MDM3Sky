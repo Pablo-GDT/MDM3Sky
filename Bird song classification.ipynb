{
 "metadata": {
  "language_info": {
   "codemirror_mode": {
    "name": "ipython",
    "version": 3
   },
   "file_extension": ".py",
   "mimetype": "text/x-python",
   "name": "python",
   "nbconvert_exporter": "python",
   "pygments_lexer": "ipython3",
   "version": "3.8.0-final"
  },
  "orig_nbformat": 2,
  "kernelspec": {
   "name": "test",
   "display_name": "test",
   "language": "python"
  }
 },
 "nbformat": 4,
 "nbformat_minor": 2,
 "cells": [
  {
   "cell_type": "code",
   "execution_count": 15,
   "metadata": {},
   "outputs": [],
   "source": [
    "\n",
    "import sklearn\n",
    "import scipy\n",
    "import os\n",
    "import shutil\n",
    "import librosa\n",
    "import numpy as np \n",
    "import pandas as pd\n",
    "import matplotlib.pyplot as plt\n",
    "from sklearn.model_selection import train_test_split\n",
    "from IPython.core.interactiveshell import InteractiveShell\n",
    "\n",
    "InteractiveShell.ast_node_interactivity = \"all\""
   ]
  },
  {
   "cell_type": "code",
   "execution_count": 1,
   "metadata": {},
   "outputs": [
    {
     "output_type": "stream",
     "name": "stdout",
     "text": [
      "[PhysicalDevice(name='/physical_device:GPU:0', device_type='GPU')]\n"
     ]
    }
   ],
   "source": [
    "import tensorflow as tf\n",
    "from tensorflow.keras import layers, models, optimizers, metrics,activations,callbacks\n",
    "from tensorflow.keras.layers import Conv2D, SeparableConv2D, MaxPooling2D, Flatten, Dense\n",
    "from tensorflow.keras.layers import Dropout, BatchNormalization, GlobalAveragePooling2D, Input\n",
    "from tensorflow.keras.utils import to_categorical\n",
    "from tensorflow.keras.preprocessing.image import ImageDataGenerator\n",
    "# check cuDNN is working \n",
    "print(tf.config.experimental.list_physical_devices('GPU'))\n"
   ]
  },
  {
   "cell_type": "code",
   "execution_count": 1,
   "metadata": {},
   "outputs": [
    {
     "output_type": "error",
     "ename": "TypeError",
     "evalue": "mkdir: path should be string, bytes or os.PathLike, not NoneType",
     "traceback": [
      "\u001b[1;31m---------------------------------------------------------------------------\u001b[0m",
      "\u001b[1;31mTypeError\u001b[0m                                 Traceback (most recent call last)",
      "\u001b[1;32m<ipython-input-1-6cee13b51208>\u001b[0m in \u001b[0;36m<module>\u001b[1;34m\u001b[0m\n\u001b[0;32m      5\u001b[0m \u001b[0mos\u001b[0m\u001b[1;33m.\u001b[0m\u001b[0mmkdir\u001b[0m\u001b[1;33m(\u001b[0m\u001b[0mvalidation_dir\u001b[0m\u001b[1;33m)\u001b[0m\u001b[1;33m\u001b[0m\u001b[1;33m\u001b[0m\u001b[0m\n\u001b[0;32m      6\u001b[0m \u001b[0mtest_dir\u001b[0m \u001b[1;33m=\u001b[0m \u001b[0mos\u001b[0m\u001b[1;33m.\u001b[0m\u001b[0mmkdir\u001b[0m\u001b[1;33m(\u001b[0m\u001b[0mos\u001b[0m\u001b[1;33m.\u001b[0m\u001b[0mpath\u001b[0m\u001b[1;33m.\u001b[0m\u001b[0mjoin\u001b[0m\u001b[1;33m(\u001b[0m\u001b[0mbase_dir\u001b[0m\u001b[1;33m,\u001b[0m\u001b[1;34m'test'\u001b[0m\u001b[1;33m)\u001b[0m\u001b[1;33m)\u001b[0m\u001b[1;33m\u001b[0m\u001b[1;33m\u001b[0m\u001b[0m\n\u001b[1;32m----> 7\u001b[1;33m \u001b[0mos\u001b[0m\u001b[1;33m.\u001b[0m\u001b[0mmkdir\u001b[0m\u001b[1;33m(\u001b[0m\u001b[0mtest_dir\u001b[0m\u001b[1;33m)\u001b[0m\u001b[1;33m\u001b[0m\u001b[1;33m\u001b[0m\u001b[0m\n\u001b[0m",
      "\u001b[1;31mTypeError\u001b[0m: mkdir: path should be string, bytes or os.PathLike, not NoneType"
     ]
    }
   ],
   "source": [
    "base_dir = r\"D:\\Uni work\\Engineering Mathematics Work\\Intro to AI\\birds\" \n",
    "train_dir = os.path.join(base_dir,'train')\n",
    "os.mkdir(train_dir)\n",
    "validation_dir = os.path.join(base_dir,'validation')\n",
    "os.mkdir(validation_dir)\n",
    "test_dir = os.mkdir(os.path.join(base_dir,'test'))\n",
    "os.mkdir(test_dir)"
   ]
  },
  {
   "cell_type": "code",
   "execution_count": 37,
   "metadata": {},
   "outputs": [
    {
     "output_type": "stream",
     "name": "stdout",
     "text": [
      "1       B\n2       B\n3       B\n4       A\n8       B\n       ..\n2145    B\n2146    A\n2147    B\n2148    B\n2149    A\nName: Quality, Length: 2110, dtype: object\n50\nCommon Nightingale            43\nGarden Warbler                43\nBarn Swallow                  43\nEuropean Goldfinch            43\nGreat Reed Warbler            43\nCommon Linnet                 43\nBluethroat                    43\nWillow Warbler                43\nTawny Owl                     43\nSedge Warbler                 43\nEurasian Golden Oriole        43\nCommon Cuckoo                 43\nEurasian Eagle-Owl            43\nEurasian Wren                 43\nEuropean Nightjar             43\nEuropean Pied Flycatcher      43\nOrtolan Bunting               43\nEurasian Blue Tit             43\nEuropean Greenfinch           43\nCorn Crake                    43\nEurasian Skylark              43\nRed Crossbill                 43\nLesser Whitethroat            43\nIcterine Warbler              43\nMarsh Warbler                 43\nThrush Nightingale            43\nCommon Chiffchaff             43\nCommon Grasshopper Warbler    43\nBlyth's Reed Warbler          43\nBoreal Owl                    43\nCorn Bunting                  43\nCommon Rosefinch              42\nEurasian Bullfinch            42\nEurasian Pygmy Owl            42\nEuropean Robin                42\nGreat Tit                     42\nLittle Owl                    42\nYellowhammer                  42\nCoal Tit                      42\nCommon Blackbird              42\nCirl Bunting                  42\nEurasian Blackcap             42\nCommon Redstart               42\nWood Warbler                  42\nRed-breasted Flycatcher       42\nCommon Chaffinch              42\nCommon Whitethroat            42\nSong Thrush                   41\nCommon Reed Bunting           41\nSoundscape                    23\nName: English_name, dtype: int64\n"
     ]
    }
   ],
   "source": [
    "data= pd.read_csv(os.path.join(base_dir,'metadata.csv'))\n",
    "\n",
    "filtered_df = data.query('Quality == \"A\" or Quality == \"B\"')\n",
    "print(filtered_df.Quality)\n",
    "print(filtered_df.English_name.nunique())\n",
    "print(filtered_df.English_name.value_counts())\n",
    "#ss_filtered_df = filtered_df[filtered_df.English_name != 'Soundscape']\n"
   ]
  },
  {
   "cell_type": "code",
   "execution_count": 47,
   "metadata": {},
   "outputs": [
    {
     "output_type": "stream",
     "name": "stdout",
     "text": [
      "1816                      Coal Tit\n2053             European Nightjar\n1401    Common Grasshopper Warbler\n1796                 Marsh Warbler\n1666                    Little Owl\n                   ...            \n1361                  Cirl Bunting\n712                 Garden Warbler\n1176               Common Redstart\n1049                    Bluethroat\n472             Common Nightingale\nName: English_name, Length: 633, dtype: object\n991          Common Linnet\n1464    Lesser Whitethroat\n738     Great Reed Warbler\n1794         Marsh Warbler\n148       Common Blackbird\n               ...        \n767     Great Reed Warbler\n1117      Eurasian Skylark\n1289     Eurasian Blue Tit\n1700            Corn Crake\n128              Great Tit\nName: English_name, Length: 316, dtype: object\n"
     ]
    }
   ],
   "source": [
    "#first shuffle to remove any ordering to the data\n",
    "shuffled_df = filtered_df.sample(frac=1, random_state=42)\n",
    "#split into a train and test set. sklearn will shuffle the data for us before doing so\n",
    "X_train, X_test, y_train, y_test = train_test_split(filtered_df, filtered_df.English_name, train_size =0.7, random_state =42, stratify = filtered_df.English_name)\n",
    "print(y_test)\n",
    "#split test set into a validation and test set\n",
    "X_test, X_val, y_test, y_val = train_test_split(X_test,y_test, train_size=0.5, random_state=42, stratify = X_test.English_name)\n"
   ]
  },
  {
   "cell_type": "code",
   "execution_count": null,
   "metadata": {},
   "outputs": [],
   "source": []
  }
 ]
}